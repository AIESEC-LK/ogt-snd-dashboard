{
  "cells": [
    {
      "cell_type": "code",
      "execution_count": null,
      "metadata": {
        "id": "ufzNTatQ6pLC"
      },
      "outputs": [],
      "source": [
        "import pandas as pd\n",
        "import os"
      ]
    },
    {
      "cell_type": "code",
      "execution_count": null,
      "metadata": {
        "id": "rT4NVGns6pLG"
      },
      "outputs": [],
      "source": [
        "app = pd.read_csv('Mar_2023/mar23_Applications.csv', encoding='latin-1')\n",
        "app"
      ]
    },
    {
      "cell_type": "code",
      "execution_count": null,
      "metadata": {
        "id": "D7MeaLDE6pLH"
      },
      "outputs": [],
      "source": [
        "#remobe GV (New)\n",
        "# remove rows by filtering\n",
        "app = app[app['Product'] != 'GV (New)']\n",
        "# display the dataframe\n",
        "app"
      ]
    },
    {
      "cell_type": "code",
      "execution_count": null,
      "metadata": {
        "id": "U8sYbmt66pLI"
      },
      "outputs": [],
      "source": [
        "app_final = app.drop(columns=['SDG Goal',\n",
        "                  'SDG Target',\n",
        "                  'utm_term',\n",
        "                  'utm_medium',\n",
        "                  'utm_source',\n",
        "                  'utm_content',\n",
        "                  'utm_campaign',\n",
        "                  'Tags',\n",
        "                  'Global Project',\n",
        "                  'Global Partner'])\n",
        "\n",
        "app_final"
      ]
    },
    {
      "cell_type": "code",
      "execution_count": null,
      "metadata": {
        "id": "tpcOnJpD6pLJ"
      },
      "outputs": [],
      "source": [
        "pbg = pd.read_csv('Mar_2023/mar23_People_Backgrounds.csv', encoding='latin-1')\n",
        "pbg"
      ]
    },
    {
      "cell_type": "code",
      "execution_count": null,
      "metadata": {
        "id": "LjvDNctw6pLJ"
      },
      "outputs": [],
      "source": [
        "ps = pd.read_csv('Mar_2023/mar23_People_Skills.csv', encoding='latin-1')\n",
        "ps"
      ]
    },
    {
      "cell_type": "code",
      "execution_count": null,
      "metadata": {
        "id": "LHpCLxtF6pLK"
      },
      "outputs": [],
      "source": [
        "# ps.rename(columns={'Home Mc': 'Home MC'}, inplace=True)\n",
        "# ps.rename(columns={'Home Lc': 'Home LC'}, inplace=True)\n",
        "# ps.rename(columns={'Ep ID': 'EP ID'}, inplace=True)"
      ]
    },
    {
      "cell_type": "code",
      "execution_count": null,
      "metadata": {
        "id": "Nv92CLcd6pLL"
      },
      "outputs": [],
      "source": [
        "# pbg.rename(columns={'Home Mc': 'Home MC'}, inplace=True)\n",
        "# pbg.rename(columns={'Home Lc': 'Home LC'}, inplace=True)\n",
        "# pbg.rename(columns={'Ep ID': 'EP ID'}, inplace=True)"
      ]
    },
    {
      "cell_type": "code",
      "execution_count": null,
      "metadata": {
        "id": "WRAJ-N1o6pLM"
      },
      "outputs": [],
      "source": [
        "app_pbg = pd.merge(app_final, pbg, on = [\"EP ID\",\"Home LC\",\"Home MC\",\"Home Region\"], how = \"left\")\n",
        "\n",
        "app_pbg"
      ]
    },
    {
      "cell_type": "code",
      "execution_count": null,
      "metadata": {
        "id": "f1csROaV6pLN"
      },
      "outputs": [],
      "source": [
        "app_pbg_ps = pd.merge(app_pbg, ps, on = [\"EP ID\",\"Home LC\",\"Home MC\",\"Home Region\"], how = \"left\")\n",
        "\n",
        "app_pbg_ps"
      ]
    },
    {
      "cell_type": "code",
      "execution_count": null,
      "metadata": {
        "id": "1_osGejy6pLO"
      },
      "outputs": [],
      "source": [
        "app_pbg_ps = app_pbg_ps[app_pbg_ps['Home MC'] == 'Sri Lanka']\n",
        "# display the dataframe\n",
        "app_pbg_ps"
      ]
    },
    {
      "cell_type": "code",
      "execution_count": null,
      "metadata": {
        "id": "pWAL-Ta96pLO"
      },
      "outputs": [],
      "source": [
        "app_pbg_ps.to_csv('Results/202303_application_people_skills_background.csv')"
      ]
    },
    {
      "cell_type": "code",
      "execution_count": null,
      "metadata": {
        "id": "vvpKi3cT6pLP"
      },
      "outputs": [],
      "source": [
        "del app,app_final,app_pbg,app_pbg_ps,applications_path,pbg,ps"
      ]
    },
    {
      "cell_type": "code",
      "source": [
        "from google.colab import drive\n",
        "drive.mount('/content/drive')"
      ],
      "metadata": {
        "colab": {
          "base_uri": "https://localhost:8080/"
        },
        "id": "cUOCHPUu7ICt",
        "outputId": "faec763a-1ae0-4f9a-add5-32f320275c1c"
      },
      "execution_count": 1,
      "outputs": [
        {
          "output_type": "stream",
          "name": "stdout",
          "text": [
            "Mounted at /content/drive\n"
          ]
        }
      ]
    },
    {
      "cell_type": "code",
      "source": [],
      "metadata": {
        "id": "W-jexfDc7lhk"
      },
      "execution_count": null,
      "outputs": []
    }
  ],
  "metadata": {
    "interpreter": {
      "hash": "b89b5cfaba6639976dc87ff2fec6d58faec662063367e2c229c520fe71072417"
    },
    "kernelspec": {
      "display_name": "Python 3.10.2 64-bit",
      "name": "python3"
    },
    "language_info": {
      "codemirror_mode": {
        "name": "ipython",
        "version": 3
      },
      "file_extension": ".py",
      "mimetype": "text/x-python",
      "name": "python",
      "nbconvert_exporter": "python",
      "pygments_lexer": "ipython3",
      "version": "3.10.2"
    },
    "orig_nbformat": 4,
    "vscode": {
      "interpreter": {
        "hash": "44e5c2402f9c33ea0aa43f3420f1b2f7e8504c40a09e9636bd8a710639b58852"
      }
    },
    "colab": {
      "provenance": []
    }
  },
  "nbformat": 4,
  "nbformat_minor": 0
}